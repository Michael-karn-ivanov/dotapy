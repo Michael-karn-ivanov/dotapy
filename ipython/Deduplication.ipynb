{
 "cells": [
  {
   "cell_type": "code",
   "execution_count": 27,
   "metadata": {
    "collapsed": true
   },
   "outputs": [],
   "source": [
    "import pandas\n",
    "from pandas import to_datetime\n",
    "from pandas import isnull\n",
    "import numpy as np\n",
    "import os"
   ]
  },
  {
   "cell_type": "code",
   "execution_count": 28,
   "metadata": {
    "collapsed": true
   },
   "outputs": [],
   "source": [
    "def read_file(filename):\n",
    "    result = pandas.read_csv(filename, sep=',', header=None, \\\n",
    "                       names = ['id', 'game', 'date', 'coeff1', 'coeff2', 'team1', 'team2',\\\n",
    "                               'type', 'tourney', 'subtype', 'parent', 'result'], dtype=np.str, index_col=None)\n",
    "    return result[result.result != 'draw']"
   ]
  },
  {
   "cell_type": "code",
   "execution_count": 29,
   "metadata": {
    "collapsed": true
   },
   "outputs": [],
   "source": [
    "root = \"../data/\""
   ]
  },
  {
   "cell_type": "code",
   "execution_count": 30,
   "metadata": {
    "collapsed": false
   },
   "outputs": [],
   "source": [
    "total = read_file(root + '!EGB.csv')"
   ]
  },
  {
   "cell_type": "code",
   "execution_count": 31,
   "metadata": {
    "collapsed": false
   },
   "outputs": [],
   "source": [
    "for filename in os.listdir(root + \".\"):\n",
    "    if filename.startswith('coeffs') and filename.endswith('.csv'):\n",
    "        coeff = read_file(root + filename)\n",
    "        total = pandas.concat((total, coeff), axis=0, ignore_index=True)\n",
    "        total.drop_duplicates(subset = 'id', keep='last', inplace=True)"
   ]
  },
  {
   "cell_type": "code",
   "execution_count": 32,
   "metadata": {
    "collapsed": false
   },
   "outputs": [],
   "source": [
    "tt = total.sort_values('date')"
   ]
  },
  {
   "cell_type": "code",
   "execution_count": 33,
   "metadata": {
    "collapsed": false
   },
   "outputs": [],
   "source": [
    "for filename in os.listdir(root + \".\"):\n",
    "    if filename.startswith('coeffs') and filename.endswith('.csv'):\n",
    "        os.remove(root + filename)"
   ]
  },
  {
   "cell_type": "code",
   "execution_count": 34,
   "metadata": {
    "collapsed": true
   },
   "outputs": [],
   "source": [
    "os.remove(root + '!EGB.csv')"
   ]
  },
  {
   "cell_type": "code",
   "execution_count": 35,
   "metadata": {
    "collapsed": true
   },
   "outputs": [],
   "source": [
    "total.to_csv(root + '!EGB.csv', sep=',', header=None, index=False, encoding='utf-8')"
   ]
  }
 ],
 "metadata": {
  "kernelspec": {
   "display_name": "Python 2",
   "language": "python",
   "name": "python2"
  },
  "language_info": {
   "codemirror_mode": {
    "name": "ipython",
    "version": 2
   },
   "file_extension": ".py",
   "mimetype": "text/x-python",
   "name": "python",
   "nbconvert_exporter": "python",
   "pygments_lexer": "ipython2",
   "version": "2.7.11"
  }
 },
 "nbformat": 4,
 "nbformat_minor": 0
}

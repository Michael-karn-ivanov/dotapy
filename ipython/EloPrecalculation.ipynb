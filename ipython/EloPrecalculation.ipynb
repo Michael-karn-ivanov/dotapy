{
 "cells": [
  {
   "cell_type": "code",
   "execution_count": 17,
   "metadata": {
    "collapsed": false
   },
   "outputs": [],
   "source": [
    "import pandas\n",
    "import pandas as pd\n",
    "from pandas import to_datetime\n",
    "from pandas import isnull\n",
    "import numpy as np\n",
    "import os\n",
    "#from elo import elo"
   ]
  },
  {
   "cell_type": "code",
   "execution_count": 18,
   "metadata": {
    "collapsed": true
   },
   "outputs": [],
   "source": [
    "def read_file(filename):\n",
    "    result = pandas.read_csv(filename, sep=',', header=None, \\\n",
    "                       names = ['id', 'game', 'date', 'coeff1', 'coeff2', 'team1', 'team2',\\\n",
    "                               'type', 'tourney', 'subtype', 'parent', 'result'], dtype=np.str, index_col=None)\n",
    "    return result"
   ]
  },
  {
   "cell_type": "code",
   "execution_count": 19,
   "metadata": {
    "collapsed": true
   },
   "outputs": [],
   "source": [
    "root = \"../data/\""
   ]
  },
  {
   "cell_type": "code",
   "execution_count": 20,
   "metadata": {
    "collapsed": true
   },
   "outputs": [],
   "source": [
    "total = read_file(root + '!EGB.csv')"
   ]
  },
  {
   "cell_type": "code",
   "execution_count": 21,
   "metadata": {
    "collapsed": false
   },
   "outputs": [],
   "source": [
    "total.sort_values(by='date', axis=0, ascending=True, inplace=True, kind='quicksort', na_position='last')"
   ]
  },
  {
   "cell_type": "code",
   "execution_count": 22,
   "metadata": {
    "collapsed": false
   },
   "outputs": [],
   "source": [
    "t1 = total[['team1', 'game', 'subtype']]\n",
    "t2 = total[['team2', 'game', 'subtype']]\n",
    "t1.columns = ['team', 'game', 'subtype']\n",
    "t2.columns = ['team', 'game', 'subtype']\n",
    "teams = pandas.concat((t1, t2), axis=0, ignore_index=True)\n",
    "teams.drop_duplicates(keep='last', inplace=True)"
   ]
  },
  {
   "cell_type": "code",
   "execution_count": 23,
   "metadata": {
    "collapsed": false
   },
   "outputs": [],
   "source": [
    "total.ix[total.subtype == 'Map1', 'subtype1'] = 'map'"
   ]
  },
  {
   "cell_type": "code",
   "execution_count": 34,
   "metadata": {
    "collapsed": false
   },
   "outputs": [],
   "source": [
    "#total[np.isnan(total['subtype'].val)]\n",
    "total.subtype = total.subtype.fillna('total')\n",
    "#total[total.subtype == \"Total kills Under 43.5 on map 3\"]"
   ]
  },
  {
   "cell_type": "code",
   "execution_count": 35,
   "metadata": {
    "collapsed": false
   },
   "outputs": [
    {
     "data": {
      "text/plain": [
       "array(['Map1', 'total', 'Map2', 'Map3', 'First blood',\n",
       "       'will take first 10 kills', 'First blood map 2',\n",
       "       'First blood map 3', 'will win 1st round on map 1',\n",
       "       'will win 1st round', 'will win 16th round',\n",
       "       'will win 16th round on map 1', 'will win 1st round on map 2',\n",
       "       'will win 16th round on map 2', 'Total maps Under 2.5',\n",
       "       'Total maps Under 4.5', 'Total maps Under 3.5', 'first blood',\n",
       "       'Total maps Under 6.5', 'Map 4', 'Map 5',\n",
       "       'will win 1st round on map 3', 'Map 6',\n",
       "       'will win 16th round on map 3', 'Total maps Under 5.5',\n",
       "       'Total maps Under 8.5', 'Total maps Under 7.5', 'Map 7',\n",
       "       'Total rounds Under 26.5 on map 1',\n",
       "       'will win 5 rounds first on map 1',\n",
       "       'will win 5 rounds first on map 2',\n",
       "       'will win 5 round first on map 3', 'Total maps under 2.5',\n",
       "       'Total rounds Under 25.5 on map 1', 'total maps under 2.5',\n",
       "       'Total rounds Under 27.5 on map 1',\n",
       "       'will take first 10 kills on map 4', 'First blood on map 4',\n",
       "       'First blood map 1', 'first blood on map 4', 'first blood on map 5',\n",
       "       'will take first 10 kills on map 5',\n",
       "       'Total rounds Under 23.5 on map 1',\n",
       "       'Total rounds under 26.5 on map 2', 'will win in overtimes',\n",
       "       'will win 5 round first', 'Total rounds Under 26.5',\n",
       "       'will win 5 rounds first', 'Total rounds under 24.5 on map 2',\n",
       "       'will win 5 rounds first on map 3',\n",
       "       'Total rounds Under 26.5 on map 3', 'will win 1st round on map 21',\n",
       "       'Total rounds Under 26.5 on map 2', 'First blood on map 5',\n",
       "       'Total rounds Under 24.5 on map 1',\n",
       "       'Total rounds under 23.5 on map 2',\n",
       "       'Total rounds under 25.5 on map 2',\n",
       "       'Total rounds Under 25.5 on map 2',\n",
       "       'will win in overtimes on map 1',\n",
       "       'will win 10 rounds first on map 1',\n",
       "       '(No) ACE will take place on map 1',\n",
       "       'Total rounds Under 28.5 on map 1',\n",
       "       '(No) ACE will take place on map 2',\n",
       "       'Total rounds Under 28.5 on map 2',\n",
       "       'Total rounds Under 27.5 on map 2',\n",
       "       'will win 10 rounds first on map 2',\n",
       "       'will win in overtimes on map 2',\n",
       "       'Total kills with a knife Under 0.5 on map 1',\n",
       "       'Total kills with a knife Under 0.5 on map 2',\n",
       "       'will win 1st round on map 4', 'will win 16th round on map 4',\n",
       "       'will take first 10 kills on map 2', 'Total rounds Under 24.5',\n",
       "       'Total rounds Under 25.5', 'Total kills Under 36.5 on map 1',\n",
       "       'Radiant will take 1st roshan on map 1',\n",
       "       'Total kills Under 50.5 on map 1',\n",
       "       'Total time Under 40 minutes on map 1',\n",
       "       'Radiant will take 1st roshan on map 2',\n",
       "       'Total kills under 50.5 on map 2',\n",
       "       'Total kills under 36.5 on map 2',\n",
       "       'Total time under 40 minutes on map 2',\n",
       "       'Total rounds under 25.5 on map 3',\n",
       "       'Total time Under 40 minutes on map 2',\n",
       "       'Total kills Under 36.5 on map 2',\n",
       "       'Total kills Under 50.5 on map 2',\n",
       "       'Total time Unber 40 minutes on map 2',\n",
       "       'Total kills Under 38.5 on map 2',\n",
       "       'Total kills Under 50.5 on map 3',\n",
       "       'Total kills Under 38.5 on map 3',\n",
       "       'Total time Under 40 minutes on map 3',\n",
       "       'Total kills under 36.5 on map 3',\n",
       "       'Total time under 40 minutes on map 3',\n",
       "       'Total kills under 50.5 on map 3',\n",
       "       'Radiant will take 1st roshan on map 3',\n",
       "       'Total kills Under 38.5 on map 1',\n",
       "       'Total kills Under 36.5 on map 3',\n",
       "       'will take first 20 kills on map 1',\n",
       "       'will take first 20 kills on map 2',\n",
       "       'will take first 20 kills on map 3',\n",
       "       'Total time Under 37 minutes on map 1',\n",
       "       'Total kills Under 43.5 on map 1',\n",
       "       'Total time Under 37 minutes on map 2',\n",
       "       'Total kills Under 43.5 on map 2',\n",
       "       'Total time Under 38 minutes on map 3',\n",
       "       'Total kills Under 43.5 on map 3',\n",
       "       '(No) ACE will take place on map 3',\n",
       "       'Total kills with a knife Under 0.5 on map 3',\n",
       "       'Total kills Under 44.5 on map 2',\n",
       "       'Total time Under 40 minutes on map 4',\n",
       "       'Radiant will take 1st roshan on map 4',\n",
       "       'Total kills Under 50.5 on map 4',\n",
       "       'Total kills Under 38.5 on map 4', 'Total rounds Under 27.5',\n",
       "       'Total kills Under 45.5 on map 1',\n",
       "       'Total time Under 38 minutes on map 1',\n",
       "       'Total time under 38 minutes on map 2',\n",
       "       'Total kills under 45.5 on map 2',\n",
       "       'Total kills Under 46.5 on map 1',\n",
       "       'Total kills Under 46.5 on map 2',\n",
       "       'Total time Under 38 minutes on map 2',\n",
       "       'Total kills Under 46.5 on map 3',\n",
       "       'Total time Under 41 minutes on map 3',\n",
       "       'Total time Under 42 minutes on map 1',\n",
       "       'Total time Under 42 minutes on map 2',\n",
       "       'Total kills Under 48.5 on map 3', 'Total kills Under 40.5',\n",
       "       'Total time Under 34 minutes', 'Total time Under 40 minutes',\n",
       "       'Total kills Under 45.5', 'Total kills Under 50.5',\n",
       "       'Total time Under 39 minutes', 'Total time Under 38 minutes',\n",
       "       'Total kills Under 46.5', 'Total rounds under 24 on map 2',\n",
       "       'Total rounds under 26.5 on map 3',\n",
       "       'will win in overtimes on map 3',\n",
       "       'Total time Under 39 minutes on map 2',\n",
       "       'Total time Under 39 minutes on map 1',\n",
       "       'Total rounds Under 26.5 on map 4',\n",
       "       'will win 5 rounds first on map 4',\n",
       "       'Total rounds Under 26.5 on map 5', 'will win 1st round on map 5',\n",
       "       'will win 5 rounds first on map 5', 'will win 16th round on map 5',\n",
       "       'will win 10 rounds first on map 3', ' Under 26.5 on map 3',\n",
       "       'Total kills Under 36.5 on map 4', 'Total time Under 35 minutes',\n",
       "       'will win 10 rounds first on map 4',\n",
       "       'Total kills Under 44.5 on map 1',\n",
       "       'Total time under 37 minutes on map 2',\n",
       "       'Total kills under 40.5 on map 2',\n",
       "       'Total kills under 45.5 on map 3', 'will win 10 rounds first'], dtype=object)"
      ]
     },
     "execution_count": 35,
     "metadata": {},
     "output_type": "execute_result"
    }
   ],
   "source": [
    "total.subtype.unique()"
   ]
  },
  {
   "cell_type": "code",
   "execution_count": 11,
   "metadata": {
    "collapsed": true
   },
   "outputs": [],
   "source": [
    "class MyCl:\n",
    "    def __init__(self, val):\n",
    "        self._val = val"
   ]
  },
  {
   "cell_type": "code",
   "execution_count": 12,
   "metadata": {
    "collapsed": false
   },
   "outputs": [],
   "source": [
    "teams['Rating'] = teams['team'].map(lambda x: MyCl(2))"
   ]
  },
  {
   "cell_type": "code",
   "execution_count": 14,
   "metadata": {
    "collapsed": false
   },
   "outputs": [
    {
     "data": {
      "text/html": [
       "<div>\n",
       "<table border=\"1\" class=\"dataframe\">\n",
       "  <thead>\n",
       "    <tr style=\"text-align: right;\">\n",
       "      <th></th>\n",
       "      <th>id</th>\n",
       "      <th>game</th>\n",
       "      <th>date</th>\n",
       "      <th>coeff1</th>\n",
       "      <th>coeff2</th>\n",
       "      <th>team1</th>\n",
       "      <th>team2</th>\n",
       "      <th>type</th>\n",
       "      <th>tourney</th>\n",
       "      <th>subtype</th>\n",
       "      <th>parent</th>\n",
       "      <th>result</th>\n",
       "    </tr>\n",
       "  </thead>\n",
       "  <tbody>\n",
       "    <tr>\n",
       "      <th>0</th>\n",
       "      <td>131814</td>\n",
       "      <td>Dota2</td>\n",
       "      <td>2016-02-15 22:06:00.000000</td>\n",
       "      <td>1.722</td>\n",
       "      <td>1.997</td>\n",
       "      <td>Evil Geniuses</td>\n",
       "      <td>Vega Squadron</td>\n",
       "      <td>Kills10</td>\n",
       "      <td>DotaCinema</td>\n",
       "      <td>Map1</td>\n",
       "      <td>131811</td>\n",
       "      <td>win1</td>\n",
       "    </tr>\n",
       "  </tbody>\n",
       "</table>\n",
       "</div>"
      ],
      "text/plain": [
       "       id   game                        date coeff1 coeff2          team1  \\\n",
       "0  131814  Dota2  2016-02-15 22:06:00.000000  1.722  1.997  Evil Geniuses   \n",
       "\n",
       "           team2     type     tourney subtype  parent result  \n",
       "0  Vega Squadron  Kills10  DotaCinema    Map1  131811   win1  "
      ]
     },
     "execution_count": 14,
     "metadata": {},
     "output_type": "execute_result"
    }
   ],
   "source": [
    "total"
   ]
  }
 ],
 "metadata": {
  "kernelspec": {
   "display_name": "Python 2",
   "language": "python",
   "name": "python2"
  },
  "language_info": {
   "codemirror_mode": {
    "name": "ipython",
    "version": 2
   },
   "file_extension": ".py",
   "mimetype": "text/x-python",
   "name": "python",
   "nbconvert_exporter": "python",
   "pygments_lexer": "ipython2",
   "version": "2.7.11"
  }
 },
 "nbformat": 4,
 "nbformat_minor": 0
}
